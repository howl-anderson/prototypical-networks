{
 "cells": [
  {
   "cell_type": "code",
   "execution_count": 18,
   "metadata": {},
   "outputs": [],
   "source": [
    "import random\n",
    "import numpy as np\n",
    "import torch\n",
    "from torchnet.dataset import TransformDataset, ListDataset\n",
    "from torchnet.transform import compose"
   ]
  },
  {
   "cell_type": "code",
   "execution_count": 38,
   "metadata": {},
   "outputs": [],
   "source": [
    "def random_plus(x):\n",
    "    print(\"I worked\")\n",
    "    return x + random.randint(1, 2)"
   ]
  },
  {
   "cell_type": "code",
   "execution_count": 39,
   "metadata": {},
   "outputs": [],
   "source": [
    "transforms = compose([random_plus])"
   ]
  },
  {
   "cell_type": "code",
   "execution_count": 40,
   "metadata": {},
   "outputs": [],
   "source": [
    "ds = TransformDataset(ListDataset([1, 2, 3]), transforms)"
   ]
  },
  {
   "cell_type": "code",
   "execution_count": 41,
   "metadata": {},
   "outputs": [
    {
     "name": "stdout",
     "output_type": "stream",
     "text": [
      "=====\n",
      "I worked\n",
      "2\n",
      "I worked\n",
      "4\n",
      "I worked\n",
      "4\n",
      "=====\n",
      "I worked\n",
      "3\n",
      "I worked\n",
      "4\n",
      "I worked\n",
      "5\n"
     ]
    }
   ],
   "source": [
    "for i in range(2):\n",
    "    print(\"=\"*5)\n",
    "    for j in ds:\n",
    "        print(j)"
   ]
  },
  {
   "cell_type": "code",
   "execution_count": 42,
   "metadata": {},
   "outputs": [],
   "source": [
    "class Sampler:\n",
    "    def __init__(self):\n",
    "        self.n_classes = 3\n",
    "        self.n_way = 3\n",
    "        self.n_episodes = 2\n",
    "\n",
    "    def __len__(self):\n",
    "        return self.n_episodes\n",
    "\n",
    "    def __iter__(self):\n",
    "        for i in range(self.n_episodes):\n",
    "            yield np.random.permutation(self.n_classes)[:self.n_way]\n"
   ]
  },
  {
   "cell_type": "code",
   "execution_count": 43,
   "metadata": {},
   "outputs": [],
   "source": [
    "dl = torch.utils.data.DataLoader(ds, batch_sampler=Sampler(), num_workers=0)"
   ]
  },
  {
   "cell_type": "code",
   "execution_count": 44,
   "metadata": {},
   "outputs": [
    {
     "name": "stdout",
     "output_type": "stream",
     "text": [
      "=====\n",
      "I worked\n",
      "I worked\n",
      "I worked\n",
      "tensor([3, 2, 4])\n",
      "I worked\n",
      "I worked\n",
      "I worked\n",
      "tensor([2, 5, 3])\n",
      "=====\n",
      "I worked\n",
      "I worked\n",
      "I worked\n",
      "tensor([3, 5, 4])\n",
      "I worked\n",
      "I worked\n",
      "I worked\n",
      "tensor([3, 3, 4])\n"
     ]
    }
   ],
   "source": [
    "for i in range(2):\n",
    "    print(\"=\"*5)\n",
    "    for j in dl:\n",
    "        print(j)"
   ]
  },
  {
   "cell_type": "code",
   "execution_count": null,
   "metadata": {},
   "outputs": [],
   "source": []
  }
 ],
 "metadata": {
  "kernelspec": {
   "display_name": "Python 3",
   "language": "python",
   "name": "python3"
  },
  "language_info": {
   "codemirror_mode": {
    "name": "ipython",
    "version": 3
   },
   "file_extension": ".py",
   "mimetype": "text/x-python",
   "name": "python",
   "nbconvert_exporter": "python",
   "pygments_lexer": "ipython3",
   "version": "3.6.9"
  }
 },
 "nbformat": 4,
 "nbformat_minor": 4
}
