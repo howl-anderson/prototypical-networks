{
 "cells": [
  {
   "cell_type": "code",
   "execution_count": 1,
   "metadata": {},
   "outputs": [],
   "source": [
    "from typing import Dict, List, Iterator"
   ]
  },
  {
   "cell_type": "code",
   "execution_count": 43,
   "metadata": {},
   "outputs": [],
   "source": [
    "import numpy as np\n",
    "import random\n",
    "from pathlib import Path\n",
    "from PIL import Image"
   ]
  },
  {
   "cell_type": "code",
   "execution_count": 36,
   "metadata": {},
   "outputs": [],
   "source": [
    "def load_and_process_image(img_path: Path, rot: float):\n",
    "    with Image.open(img_path) as img:\n",
    "        img = img.rotate(rot)\n",
    "        img = img.resize((28, 28))\n",
    "        \n",
    "        data = np.asarray(img, dtype=np.float32)\n",
    "        data = np.transpose(data)  # (width, height) => (height, width)\n",
    "        data = data.reshape((28, 28, 1))  # (height, width) => (height, width, channel)\n",
    "        return data\n",
    "\n",
    "result = load_and_process_image(Path(\"data/omniglot/data/Angelic/character15/0979_01.png\"), 90)\n",
    "assert result.shape == (28, 28, 1)\n",
    "assert result.dtype == np.float32"
   ]
  },
  {
   "cell_type": "code",
   "execution_count": 37,
   "metadata": {},
   "outputs": [],
   "source": [
    "OMNIGLOT_CACHE = {}\n",
    "\n",
    "\n",
    "def load_class_image(data_dir: Path, clazz: str) -> List[np.ndarray]:\n",
    "    if clazz not in OMNIGLOT_CACHE:\n",
    "        alphabet, character, raw_rot = clazz.split('/')\n",
    "        rot = float(raw_rot[3:])\n",
    "\n",
    "        image_dir = data_dir / 'data' / alphabet / character\n",
    "\n",
    "        class_images = sorted(image_dir.glob('*.png'))\n",
    "\n",
    "        if len(class_images) == 0:\n",
    "            raise Exception(\"No images found for omniglot class {} at {}. Did you run download_omniglot.sh first?\".format(clazz, data_dir))\n",
    "\n",
    "        image_list = [load_and_process_image(img_path, rot) for img_path in class_images]\n",
    "            \n",
    "        OMNIGLOT_CACHE[clazz] = image_list\n",
    "\n",
    "    return OMNIGLOT_CACHE[clazz]\n",
    "\n",
    "result = load_class_image(Path(\"data/omniglot\"), \"Angelic/character01/rot000\")\n",
    "assert len(result) == 20"
   ]
  },
  {
   "cell_type": "code",
   "execution_count": 49,
   "metadata": {},
   "outputs": [],
   "source": [
    "def read_images(data_dir: Path, split: str) -> Dict[str, List[np.ndarray]]:\n",
    "    split_dir = data_dir / \"splits\" / \"vinyals\"\n",
    "    \n",
    "    class_names = []\n",
    "    with open(split_dir / \"{:s}.txt\".format(split), 'r') as f:\n",
    "        for class_name in f.readlines():\n",
    "            class_names.append(class_name.rstrip('\\n'))\n",
    "            \n",
    "    images = {clazz: load_class_image(data_dir, clazz) for clazz in class_names}\n",
    "    \n",
    "    return images\n",
    "\n",
    "\n",
    "result = read_images(Path(\"data/omniglot\"), \"train\")\n",
    "assert len(result) == 4112"
   ]
  },
  {
   "cell_type": "code",
   "execution_count": 52,
   "metadata": {},
   "outputs": [],
   "source": [
    "def extract_episode(data_dir: Path, split: str, n_support, n_query) -> Dict[str, Dict[str, List[np.ndarray]]]:\n",
    "    data = read_images(data_dir, split)\n",
    "\n",
    "    reuslt = {}\n",
    "    for clazz, images in data.items():\n",
    "        random.shuffle(images)\n",
    "        xs = images[:n_support]\n",
    "        xq = images[n_support:n_support + n_query]\n",
    "        \n",
    "        result[clazz] = {\"xs\": xs, \"xq\": xq}\n",
    "        \n",
    "    return result\n",
    "\n",
    "result = extract_episode(Path(\"data/omniglot\"), \"train\", 5, 5)\n",
    "assert len(result) == 4112\n",
    "\n",
    "some_key = list(result.keys())[0]\n",
    "assert len(result[some_key][\"xs\"]) == 5\n",
    "assert len(result[some_key][\"xq\"]) == 5"
   ]
  },
  {
   "cell_type": "code",
   "execution_count": 5,
   "metadata": {},
   "outputs": [],
   "source": [
    "def generate_episode_batch(data: Dict[str, Dict[str, List[np.ndarray]]], n_episodes, n_way) -> Iterator[Dict[str, List[np.ndarray]]]:\n",
    "    for i in range(n_episodes):\n",
    "        yield ..."
   ]
  },
  {
   "cell_type": "code",
   "execution_count": null,
   "metadata": {},
   "outputs": [],
   "source": []
  }
 ],
 "metadata": {
  "celltoolbar": "Raw Cell Format",
  "kernelspec": {
   "display_name": "Python 3",
   "language": "python",
   "name": "python3"
  },
  "language_info": {
   "codemirror_mode": {
    "name": "ipython",
    "version": 3
   },
   "file_extension": ".py",
   "mimetype": "text/x-python",
   "name": "python",
   "nbconvert_exporter": "python",
   "pygments_lexer": "ipython3",
   "version": "3.6.9"
  }
 },
 "nbformat": 4,
 "nbformat_minor": 4
}
