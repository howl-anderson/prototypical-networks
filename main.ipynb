{
 "cells": [
  {
   "cell_type": "code",
   "execution_count": 1,
   "metadata": {},
   "outputs": [],
   "source": [
    "from typing import Dict, List, Iterator"
   ]
  },
  {
   "cell_type": "code",
   "execution_count": 2,
   "metadata": {},
   "outputs": [],
   "source": [
    "import numpy as np\n",
    "import random\n",
    "from pathlib import Path\n",
    "from PIL import Image"
   ]
  },
  {
   "cell_type": "code",
   "execution_count": 3,
   "metadata": {},
   "outputs": [],
   "source": [
    "def load_and_process_image(img_path: Path, rot: float):\n",
    "    with Image.open(img_path) as img:\n",
    "        img = img.rotate(rot)\n",
    "        img = img.resize((28, 28))\n",
    "        \n",
    "        data = np.asarray(img, dtype=np.float32)\n",
    "        data = np.transpose(data)  # (width, height) => (height, width)\n",
    "        data = data.reshape((28, 28, 1))  # (height, width) => (height, width, channel)\n",
    "        return data\n",
    "\n",
    "result = load_and_process_image(Path(\"data/omniglot/data/Angelic/character15/0979_01.png\"), 90)\n",
    "assert result.shape == (28, 28, 1)\n",
    "assert result.dtype == np.float32"
   ]
  },
  {
   "cell_type": "code",
   "execution_count": 4,
   "metadata": {},
   "outputs": [],
   "source": [
    "OMNIGLOT_CACHE = {}\n",
    "\n",
    "\n",
    "def load_class_image(data_dir: Path, clazz: str) -> List[np.ndarray]:\n",
    "    if clazz not in OMNIGLOT_CACHE:\n",
    "        alphabet, character, raw_rot = clazz.split('/')\n",
    "        rot = float(raw_rot[3:])\n",
    "\n",
    "        image_dir = data_dir / 'data' / alphabet / character\n",
    "\n",
    "        class_images = sorted(image_dir.glob('*.png'))\n",
    "\n",
    "        if len(class_images) == 0:\n",
    "            raise Exception(\"No images found for omniglot class {} at {}. Did you run download_omniglot.sh first?\".format(clazz, data_dir))\n",
    "\n",
    "        image_list = [load_and_process_image(img_path, rot) for img_path in class_images]\n",
    "            \n",
    "        OMNIGLOT_CACHE[clazz] = image_list\n",
    "\n",
    "    return OMNIGLOT_CACHE[clazz]\n",
    "\n",
    "result = load_class_image(Path(\"data/omniglot\"), \"Angelic/character01/rot000\")\n",
    "assert len(result) == 20"
   ]
  },
  {
   "cell_type": "code",
   "execution_count": 5,
   "metadata": {},
   "outputs": [],
   "source": [
    "def read_images(data_dir: Path, split: str) -> Dict[str, List[np.ndarray]]:\n",
    "    split_dir = data_dir / \"splits\" / \"vinyals\"\n",
    "    \n",
    "    class_names = []\n",
    "    with open(split_dir / \"{:s}.txt\".format(split), 'r') as f:\n",
    "        for class_name in f.readlines():\n",
    "            class_names.append(class_name.rstrip('\\n'))\n",
    "            \n",
    "    images = {clazz: load_class_image(data_dir, clazz) for clazz in class_names}\n",
    "    \n",
    "    return images\n",
    "\n",
    "\n",
    "result = read_images(Path(\"data/omniglot\"), \"train\")\n",
    "assert len(result) == 4112"
   ]
  },
  {
   "cell_type": "code",
   "execution_count": 6,
   "metadata": {},
   "outputs": [],
   "source": [
    "def extract_episode(data_dir: Path, split: str, n_support, n_query) -> Dict[str, Dict[str, List[np.ndarray]]]:\n",
    "    data = read_images(data_dir, split)\n",
    "\n",
    "    result = {}\n",
    "    for clazz, images in data.items():\n",
    "        random.shuffle(images)\n",
    "        xs = images[:n_support]\n",
    "        xq = images[n_support:n_support + n_query]\n",
    "        \n",
    "        result[clazz] = {\"xs\": np.stack(xs), \"xq\": np.stack(xq)}\n",
    "        \n",
    "    return result\n",
    "\n",
    "result = extract_episode(Path(\"data/omniglot\"), \"train\", 5, 3)\n",
    "assert len(result) == 4112\n",
    "\n",
    "some_key = list(result.keys())[0]\n",
    "assert result[some_key][\"xs\"].shape == (5, 28, 28, 1)\n",
    "assert result[some_key][\"xq\"].shape == (3, 28, 28, 1)"
   ]
  },
  {
   "cell_type": "code",
   "execution_count": 7,
   "metadata": {},
   "outputs": [],
   "source": [
    "class EpisodeBatcher:\n",
    "    def __init__(self, data_dir: Path, split: str, n_support, n_query, n_episodes, n_way):\n",
    "        self.episode_config = {\"data_dir\": data_dir, \"split\": split, \"n_support\": n_support, \"n_query\": n_query}\n",
    "        self.n_episodes = n_episodes\n",
    "        self.n_way = n_way\n",
    "    \n",
    "    def __len__(self):\n",
    "        return self.n_episodes\n",
    "    \n",
    "    def __iter__(self):\n",
    "        episode = extract_episode(**self.episode_config)\n",
    "        class_list = list(episode.keys())\n",
    "        for e in range(self.n_episodes):\n",
    "            random.shuffle(class_list)\n",
    "            n_way_class = class_list[:self.n_way]\n",
    "            data = [v for k, v in episode.items() if k in n_way_class]\n",
    "            \n",
    "            xs = np.stack([i[\"xs\"] for i in data])\n",
    "            xq = np.stack([i[\"xq\"] for i in data])\n",
    "            \n",
    "            yield xs, xq\n",
    "\n",
    "result = list(EpisodeBatcher(Path(\"data/omniglot\"), \"train\", 5, 5, 6, 5))\n",
    "assert len(result) == 6\n",
    "\n",
    "for xs, xq in EpisodeBatcher(Path(\"data/omniglot\"), \"train\", 5, 3, 6, 10):    \n",
    "    assert xs.shape == (10, 5, 28, 28, 1)\n",
    "    assert xq.shape == (10, 3, 28, 28, 1)\n",
    "    \n",
    "    break"
   ]
  },
  {
   "cell_type": "code",
   "execution_count": 8,
   "metadata": {},
   "outputs": [],
   "source": [
    "def pairwise_dist(A, B):  \n",
    "    \"\"\"\n",
    "    Computes pairwise distances between each elements of A and each elements of B.\n",
    "    Args:\n",
    "    A,    [m,d] matrix\n",
    "    B,    [n,d] matrix\n",
    "    Returns:\n",
    "    D,    [m,n] matrix of pairwise distances\n",
    "    \"\"\"\n",
    "    # squared norms of each row in A and B\n",
    "    na = tf.reduce_sum(tf.square(A), 1)\n",
    "    nb = tf.reduce_sum(tf.square(B), 1)\n",
    "\n",
    "    # na as a row and nb as a co\"lumn vectors\n",
    "    na = tf.reshape(na, [-1, 1])\n",
    "    nb = tf.reshape(nb, [1, -1])\n",
    "\n",
    "    # return pairwise euclidead difference matrix\n",
    "    D = tf.sqrt(tf.maximum(na - 2*tf.matmul(A, B, False, True) + nb, 0.0))\n",
    "    return D"
   ]
  },
  {
   "cell_type": "code",
   "execution_count": 9,
   "metadata": {},
   "outputs": [],
   "source": [
    "import tensorflow as tf\n",
    "\n",
    "\n",
    "class Img2Vec(tf.keras.Model):\n",
    "    \"\"\"\n",
    "    Img2Vec CNN which takes image of dimension (28x28x?) and return column vector length 64\n",
    "    \"\"\"\n",
    "\n",
    "    def __init__(self):\n",
    "        super(Img2Vec, self).__init__()\n",
    "\n",
    "        self.convnet1 = self.sub_block()\n",
    "        self.convnet2 = self.sub_block()\n",
    "        self.convnet3 = self.sub_block()\n",
    "        self.convnet4 = self.sub_block()\n",
    "\n",
    "    def sub_block(self, out_channels=64, kernel_size=3):\n",
    "        block = tf.keras.models.Sequential(\n",
    "            [\n",
    "                tf.keras.layers.Conv2D(out_channels, kernel_size, padding=\"same\"),\n",
    "                tf.keras.layers.BatchNormalization(),\n",
    "                tf.keras.layers.ReLU(),\n",
    "                tf.keras.layers.MaxPool2D(),\n",
    "            ]\n",
    "        )\n",
    "        return block\n",
    "\n",
    "    def call(self, x):\n",
    "        x = self.convnet1(x)\n",
    "        x = self.convnet2(x)\n",
    "        x = self.convnet3(x)\n",
    "        x = self.convnet4(x)\n",
    "        x = tf.keras.layers.Flatten()(x)\n",
    "        return x"
   ]
  },
  {
   "cell_type": "code",
   "execution_count": 25,
   "metadata": {},
   "outputs": [],
   "source": [
    "img2vec = Img2Vec()\n",
    "optimizer = tf.keras.optimizers.Adam()\n",
    "train_loss = tf.keras.metrics.Mean(name='train_loss')\n",
    "train_acc = tf.keras.metrics.Mean(name='train_acc')\n",
    "\n",
    "def train_step(xs, xq):\n",
    "    n_class = xs.shape[0]\n",
    "    assert xq.shape[0] == n_class\n",
    "    n_support = xs.shape[1]\n",
    "    n_query = xq.shape[1]\n",
    "    \n",
    "    with tf.GradientTape() as tape:\n",
    "        target_idx = tf.broadcast_to(\n",
    "            tf.reshape(tf.range(0, n_class), (-1, 1, 1)),\n",
    "            (n_class, n_query, 1)\n",
    "        )\n",
    "\n",
    "        x = np.concatenate([\n",
    "            np.reshape(xs, [n_class * n_support, *xs.shape[2:]]),\n",
    "            np.reshape(xq, [n_class * n_query, *xq.shape[2:]])\n",
    "        ])\n",
    "\n",
    "        z = img2vec(x)\n",
    "\n",
    "        z_proto = tf.math.reduce_mean(tf.reshape(z[:n_class * n_support], (n_class, n_support, -1)), 1)\n",
    "\n",
    "        z_q = z[n_class * n_support:]\n",
    "\n",
    "        dists = pairwise_dist(z_q, z_proto)\n",
    "\n",
    "        log_p_y = tf.reshape(tf.nn.log_softmax(-1 * dists, 1), (n_class, n_query, -1))\n",
    "\n",
    "        loss_val = -1 * tf.reduce_mean(tf.reshape(tf.gather(log_p_y, target_idx, axis=2, batch_dims=2), (-1, )))\n",
    "        \n",
    "        y_hat = tf.math.argmax(log_p_y, 2, output_type=tf.int32)\n",
    "        acc_val = tf.reduce_mean(tf.cast(tf.math.equal(y_hat, tf.squeeze(target_idx)), tf.float32))\n",
    "\n",
    "    \n",
    "    gradients = tape.gradient(loss_val, img2vec.trainable_variables)\n",
    "    optimizer.apply_gradients(zip(gradients, img2vec.trainable_variables))\n",
    "\n",
    "    train_loss(loss_val)\n",
    "    train_acc(acc_val)"
   ]
  },
  {
   "cell_type": "code",
   "execution_count": null,
   "metadata": {},
   "outputs": [
    {
     "name": "stderr",
     "output_type": "stream",
     "text": [
      "Batch 0: 100%|████████████████████████████████████████████████████████████████████████████████| 100/100 [01:52<00:00,  1.13s/it]\n",
      "Batch 1:   0%|                                                                                          | 0/100 [00:00<?, ?it/s]"
     ]
    },
    {
     "name": "stdout",
     "output_type": "stream",
     "text": [
      "Epoch 1, Loss: 1.6581666469573975, Acc: 0.587766706943512\n"
     ]
    },
    {
     "name": "stderr",
     "output_type": "stream",
     "text": [
      "Batch 1: 100%|████████████████████████████████████████████████████████████████████████████████| 100/100 [01:28<00:00,  1.13it/s]\n",
      "Batch 2:   0%|                                                                                          | 0/100 [00:00<?, ?it/s]"
     ]
    },
    {
     "name": "stdout",
     "output_type": "stream",
     "text": [
      "Epoch 2, Loss: 0.6782087087631226, Acc: 0.8044664859771729\n"
     ]
    },
    {
     "name": "stderr",
     "output_type": "stream",
     "text": [
      "Batch 2: 100%|████████████████████████████████████████████████████████████████████████████████| 100/100 [01:32<00:00,  1.08it/s]\n",
      "Batch 3:   0%|                                                                                          | 0/100 [00:00<?, ?it/s]"
     ]
    },
    {
     "name": "stdout",
     "output_type": "stream",
     "text": [
      "Epoch 3, Loss: 0.37346938252449036, Acc: 0.8883668780326843\n"
     ]
    },
    {
     "name": "stderr",
     "output_type": "stream",
     "text": [
      "Batch 3: 100%|████████████████████████████████████████████████████████████████████████████████| 100/100 [01:42<00:00,  1.03s/it]\n",
      "Batch 4:   0%|                                                                                          | 0/100 [00:00<?, ?it/s]"
     ]
    },
    {
     "name": "stdout",
     "output_type": "stream",
     "text": [
      "Epoch 4, Loss: 0.2669461667537689, Acc: 0.9206336140632629\n"
     ]
    },
    {
     "name": "stderr",
     "output_type": "stream",
     "text": [
      "Batch 4: 100%|████████████████████████████████████████████████████████████████████████████████| 100/100 [01:32<00:00,  1.09it/s]\n",
      "Batch 5:   0%|                                                                                          | 0/100 [00:00<?, ?it/s]"
     ]
    },
    {
     "name": "stdout",
     "output_type": "stream",
     "text": [
      "Epoch 5, Loss: 0.22348469495773315, Acc: 0.9323664903640747\n"
     ]
    },
    {
     "name": "stderr",
     "output_type": "stream",
     "text": [
      "Batch 5: 100%|████████████████████████████████████████████████████████████████████████████████| 100/100 [01:48<00:00,  1.08s/it]\n",
      "Batch 6:   0%|                                                                                          | 0/100 [00:00<?, ?it/s]"
     ]
    },
    {
     "name": "stdout",
     "output_type": "stream",
     "text": [
      "Epoch 6, Loss: 0.19715291261672974, Acc: 0.9402332305908203\n"
     ]
    },
    {
     "name": "stderr",
     "output_type": "stream",
     "text": [
      "Batch 6: 100%|████████████████████████████████████████████████████████████████████████████████| 100/100 [01:27<00:00,  1.14it/s]\n",
      "Batch 7:   0%|                                                                                          | 0/100 [00:00<?, ?it/s]"
     ]
    },
    {
     "name": "stdout",
     "output_type": "stream",
     "text": [
      "Epoch 7, Loss: 0.18443991243839264, Acc: 0.9436662197113037\n"
     ]
    },
    {
     "name": "stderr",
     "output_type": "stream",
     "text": [
      "Batch 7: 100%|████████████████████████████████████████████████████████████████████████████████| 100/100 [01:23<00:00,  1.20it/s]\n",
      "Batch 8:   0%|                                                                                          | 0/100 [00:00<?, ?it/s]"
     ]
    },
    {
     "name": "stdout",
     "output_type": "stream",
     "text": [
      "Epoch 8, Loss: 0.1657325178384781, Acc: 0.9496997594833374\n"
     ]
    },
    {
     "name": "stderr",
     "output_type": "stream",
     "text": [
      "Batch 8: 100%|████████████████████████████████████████████████████████████████████████████████| 100/100 [01:24<00:00,  1.18it/s]\n",
      "Batch 9:   0%|                                                                                          | 0/100 [00:00<?, ?it/s]"
     ]
    },
    {
     "name": "stdout",
     "output_type": "stream",
     "text": [
      "Epoch 9, Loss: 0.1602976769208908, Acc: 0.950499951839447\n"
     ]
    },
    {
     "name": "stderr",
     "output_type": "stream",
     "text": [
      "Batch 9: 100%|████████████████████████████████████████████████████████████████████████████████| 100/100 [01:24<00:00,  1.18it/s]\n",
      "Batch 10:   0%|                                                                                         | 0/100 [00:00<?, ?it/s]"
     ]
    },
    {
     "name": "stdout",
     "output_type": "stream",
     "text": [
      "Epoch 10, Loss: 0.13771668076515198, Acc: 0.9577998518943787\n"
     ]
    },
    {
     "name": "stderr",
     "output_type": "stream",
     "text": [
      "Batch 10: 100%|███████████████████████████████████████████████████████████████████████████████| 100/100 [01:24<00:00,  1.19it/s]\n",
      "Batch 11:   0%|                                                                                         | 0/100 [00:00<?, ?it/s]"
     ]
    },
    {
     "name": "stdout",
     "output_type": "stream",
     "text": [
      "Epoch 11, Loss: 0.13586026430130005, Acc: 0.9597001075744629\n"
     ]
    },
    {
     "name": "stderr",
     "output_type": "stream",
     "text": [
      "Batch 11: 100%|███████████████████████████████████████████████████████████████████████████████| 100/100 [01:24<00:00,  1.19it/s]\n",
      "Batch 12:   0%|                                                                                         | 0/100 [00:00<?, ?it/s]"
     ]
    },
    {
     "name": "stdout",
     "output_type": "stream",
     "text": [
      "Epoch 12, Loss: 0.12791933119297028, Acc: 0.9572665691375732\n"
     ]
    },
    {
     "name": "stderr",
     "output_type": "stream",
     "text": [
      "Batch 12: 100%|███████████████████████████████████████████████████████████████████████████████| 100/100 [01:25<00:00,  1.17it/s]\n",
      "Batch 13:   0%|                                                                                         | 0/100 [00:00<?, ?it/s]"
     ]
    },
    {
     "name": "stdout",
     "output_type": "stream",
     "text": [
      "Epoch 13, Loss: 0.12732936441898346, Acc: 0.9608666300773621\n"
     ]
    },
    {
     "name": "stderr",
     "output_type": "stream",
     "text": [
      "Batch 13: 100%|███████████████████████████████████████████████████████████████████████████████| 100/100 [01:24<00:00,  1.19it/s]\n",
      "Batch 14:   0%|                                                                                         | 0/100 [00:00<?, ?it/s]"
     ]
    },
    {
     "name": "stdout",
     "output_type": "stream",
     "text": [
      "Epoch 14, Loss: 0.12196223437786102, Acc: 0.9622999429702759\n"
     ]
    },
    {
     "name": "stderr",
     "output_type": "stream",
     "text": [
      "Batch 14: 100%|███████████████████████████████████████████████████████████████████████████████| 100/100 [01:24<00:00,  1.18it/s]\n",
      "Batch 15:   0%|                                                                                         | 0/100 [00:00<?, ?it/s]"
     ]
    },
    {
     "name": "stdout",
     "output_type": "stream",
     "text": [
      "Epoch 15, Loss: 0.11095141619443893, Acc: 0.9660670757293701\n"
     ]
    },
    {
     "name": "stderr",
     "output_type": "stream",
     "text": [
      "Batch 15: 100%|███████████████████████████████████████████████████████████████████████████████| 100/100 [03:10<00:00,  1.90s/it]\n",
      "Batch 16:   0%|                                                                                         | 0/100 [00:00<?, ?it/s]"
     ]
    },
    {
     "name": "stdout",
     "output_type": "stream",
     "text": [
      "Epoch 16, Loss: 0.10093966126441956, Acc: 0.9685666561126709\n"
     ]
    },
    {
     "name": "stderr",
     "output_type": "stream",
     "text": [
      "Batch 16: 100%|███████████████████████████████████████████████████████████████████████████████| 100/100 [36:03<00:00, 21.64s/it]\n",
      "Batch 17:   0%|                                                                                         | 0/100 [00:00<?, ?it/s]"
     ]
    },
    {
     "name": "stdout",
     "output_type": "stream",
     "text": [
      "Epoch 17, Loss: 0.10753487795591354, Acc: 0.9676334261894226\n"
     ]
    },
    {
     "name": "stderr",
     "output_type": "stream",
     "text": [
      "Batch 17: 100%|███████████████████████████████████████████████████████████████████████████████| 100/100 [01:44<00:00,  1.05s/it]\n",
      "Batch 18:   0%|                                                                                         | 0/100 [00:00<?, ?it/s]"
     ]
    },
    {
     "name": "stdout",
     "output_type": "stream",
     "text": [
      "Epoch 18, Loss: 0.10465271770954132, Acc: 0.9678334593772888\n"
     ]
    },
    {
     "name": "stderr",
     "output_type": "stream",
     "text": [
      "Batch 18: 100%|███████████████████████████████████████████████████████████████████████████████| 100/100 [01:49<00:00,  1.09s/it]\n",
      "Batch 19:   0%|                                                                                         | 0/100 [00:00<?, ?it/s]"
     ]
    },
    {
     "name": "stdout",
     "output_type": "stream",
     "text": [
      "Epoch 19, Loss: 0.1059812381863594, Acc: 0.9669000506401062\n"
     ]
    },
    {
     "name": "stderr",
     "output_type": "stream",
     "text": [
      "Batch 19: 100%|███████████████████████████████████████████████████████████████████████████████| 100/100 [01:56<00:00,  1.16s/it]\n",
      "Batch 20:   0%|                                                                                         | 0/100 [00:00<?, ?it/s]"
     ]
    },
    {
     "name": "stdout",
     "output_type": "stream",
     "text": [
      "Epoch 20, Loss: 0.09568878263235092, Acc: 0.970033586025238\n"
     ]
    },
    {
     "name": "stderr",
     "output_type": "stream",
     "text": [
      "Batch 20: 100%|████████████████████████████████████████████████████████████████████████████| 100/100 [4:02:08<00:00, 145.29s/it]\n",
      "Batch 21:   0%|                                                                                         | 0/100 [00:00<?, ?it/s]"
     ]
    },
    {
     "name": "stdout",
     "output_type": "stream",
     "text": [
      "Epoch 21, Loss: 0.09750793129205704, Acc: 0.9711000323295593\n"
     ]
    },
    {
     "name": "stderr",
     "output_type": "stream",
     "text": [
      "Batch 21: 100%|█████████████████████████████████████████████████████████████████████████████| 100/100 [1:24:08<00:00, 50.48s/it]\n",
      "Batch 22:   0%|                                                                                         | 0/100 [00:00<?, ?it/s]"
     ]
    },
    {
     "name": "stdout",
     "output_type": "stream",
     "text": [
      "Epoch 22, Loss: 0.08536353707313538, Acc: 0.9727335572242737\n"
     ]
    },
    {
     "name": "stderr",
     "output_type": "stream",
     "text": [
      "Batch 22: 100%|███████████████████████████████████████████████████████████████████████████████| 100/100 [01:27<00:00,  1.15it/s]\n",
      "Batch 23:   0%|                                                                                         | 0/100 [00:00<?, ?it/s]"
     ]
    },
    {
     "name": "stdout",
     "output_type": "stream",
     "text": [
      "Epoch 23, Loss: 0.09130334109067917, Acc: 0.9709333777427673\n"
     ]
    },
    {
     "name": "stderr",
     "output_type": "stream",
     "text": [
      "Batch 23: 100%|███████████████████████████████████████████████████████████████████████████████| 100/100 [01:27<00:00,  1.14it/s]\n",
      "Batch 24:   0%|                                                                                         | 0/100 [00:00<?, ?it/s]"
     ]
    },
    {
     "name": "stdout",
     "output_type": "stream",
     "text": [
      "Epoch 24, Loss: 0.08493991196155548, Acc: 0.9744336009025574\n"
     ]
    },
    {
     "name": "stderr",
     "output_type": "stream",
     "text": [
      "Batch 24: 100%|███████████████████████████████████████████████████████████████████████████████| 100/100 [01:26<00:00,  1.15it/s]\n",
      "Batch 25:   0%|                                                                                         | 0/100 [00:00<?, ?it/s]"
     ]
    },
    {
     "name": "stdout",
     "output_type": "stream",
     "text": [
      "Epoch 25, Loss: 0.08441689610481262, Acc: 0.9732001423835754\n"
     ]
    },
    {
     "name": "stderr",
     "output_type": "stream",
     "text": [
      "Batch 25: 100%|███████████████████████████████████████████████████████████████████████████████| 100/100 [01:27<00:00,  1.15it/s]\n",
      "Batch 26:   0%|                                                                                         | 0/100 [00:00<?, ?it/s]"
     ]
    },
    {
     "name": "stdout",
     "output_type": "stream",
     "text": [
      "Epoch 26, Loss: 0.08357072621583939, Acc: 0.975199818611145\n"
     ]
    },
    {
     "name": "stderr",
     "output_type": "stream",
     "text": [
      "Batch 26: 100%|███████████████████████████████████████████████████████████████████████████████| 100/100 [01:30<00:00,  1.11it/s]\n",
      "Batch 27:   0%|                                                                                         | 0/100 [00:00<?, ?it/s]"
     ]
    },
    {
     "name": "stdout",
     "output_type": "stream",
     "text": [
      "Epoch 27, Loss: 0.08207185566425323, Acc: 0.9751332998275757\n"
     ]
    },
    {
     "name": "stderr",
     "output_type": "stream",
     "text": [
      "Batch 27: 100%|███████████████████████████████████████████████████████████████████████████████| 100/100 [01:27<00:00,  1.14it/s]\n",
      "Batch 28:   0%|                                                                                         | 0/100 [00:00<?, ?it/s]"
     ]
    },
    {
     "name": "stdout",
     "output_type": "stream",
     "text": [
      "Epoch 28, Loss: 0.08294637501239777, Acc: 0.9756000638008118\n"
     ]
    },
    {
     "name": "stderr",
     "output_type": "stream",
     "text": [
      "Batch 28: 100%|███████████████████████████████████████████████████████████████████████████████| 100/100 [01:30<00:00,  1.11it/s]\n",
      "Batch 29:   0%|                                                                                         | 0/100 [00:00<?, ?it/s]"
     ]
    },
    {
     "name": "stdout",
     "output_type": "stream",
     "text": [
      "Epoch 29, Loss: 0.08167175203561783, Acc: 0.9752665758132935\n"
     ]
    },
    {
     "name": "stderr",
     "output_type": "stream",
     "text": [
      "Batch 29: 100%|███████████████████████████████████████████████████████████████████████████████| 100/100 [05:20<00:00,  3.21s/it]\n",
      "Batch 30:   0%|                                                                                         | 0/100 [00:00<?, ?it/s]"
     ]
    },
    {
     "name": "stdout",
     "output_type": "stream",
     "text": [
      "Epoch 30, Loss: 0.07733689993619919, Acc: 0.9759998321533203\n"
     ]
    },
    {
     "name": "stderr",
     "output_type": "stream",
     "text": [
      "Batch 30: 100%|███████████████████████████████████████████████████████████████████████████████| 100/100 [01:26<00:00,  1.15it/s]\n",
      "Batch 31:   0%|                                                                                         | 0/100 [00:00<?, ?it/s]"
     ]
    },
    {
     "name": "stdout",
     "output_type": "stream",
     "text": [
      "Epoch 31, Loss: 0.08196026086807251, Acc: 0.9756665825843811\n"
     ]
    },
    {
     "name": "stderr",
     "output_type": "stream",
     "text": [
      "Batch 31: 100%|███████████████████████████████████████████████████████████████████████████████| 100/100 [01:29<00:00,  1.12it/s]\n",
      "Batch 32:   0%|                                                                                         | 0/100 [00:00<?, ?it/s]"
     ]
    },
    {
     "name": "stdout",
     "output_type": "stream",
     "text": [
      "Epoch 32, Loss: 0.07579225301742554, Acc: 0.9770665764808655\n"
     ]
    },
    {
     "name": "stderr",
     "output_type": "stream",
     "text": [
      "Batch 32: 100%|███████████████████████████████████████████████████████████████████████████████| 100/100 [01:27<00:00,  1.15it/s]\n",
      "Batch 33:   0%|                                                                                         | 0/100 [00:00<?, ?it/s]"
     ]
    },
    {
     "name": "stdout",
     "output_type": "stream",
     "text": [
      "Epoch 33, Loss: 0.07257801294326782, Acc: 0.9783331155776978\n"
     ]
    },
    {
     "name": "stderr",
     "output_type": "stream",
     "text": [
      "Batch 33: 100%|███████████████████████████████████████████████████████████████████████████████| 100/100 [01:26<00:00,  1.15it/s]\n",
      "Batch 34:   0%|                                                                                         | 0/100 [00:00<?, ?it/s]"
     ]
    },
    {
     "name": "stdout",
     "output_type": "stream",
     "text": [
      "Epoch 34, Loss: 0.07135836780071259, Acc: 0.977699875831604\n"
     ]
    },
    {
     "name": "stderr",
     "output_type": "stream",
     "text": [
      "Batch 34: 100%|███████████████████████████████████████████████████████████████████████████████| 100/100 [01:27<00:00,  1.15it/s]\n",
      "Batch 35:   0%|                                                                                         | 0/100 [00:00<?, ?it/s]"
     ]
    },
    {
     "name": "stdout",
     "output_type": "stream",
     "text": [
      "Epoch 35, Loss: 0.06489169597625732, Acc: 0.9797333478927612\n"
     ]
    },
    {
     "name": "stderr",
     "output_type": "stream",
     "text": [
      "Batch 35: 100%|███████████████████████████████████████████████████████████████████████████████| 100/100 [01:27<00:00,  1.14it/s]\n",
      "Batch 36:   0%|                                                                                         | 0/100 [00:00<?, ?it/s]"
     ]
    },
    {
     "name": "stdout",
     "output_type": "stream",
     "text": [
      "Epoch 36, Loss: 0.07293123006820679, Acc: 0.9784665107727051\n"
     ]
    },
    {
     "name": "stderr",
     "output_type": "stream",
     "text": [
      "Batch 36: 100%|███████████████████████████████████████████████████████████████████████████████| 100/100 [01:28<00:00,  1.13it/s]\n",
      "Batch 37:   0%|                                                                                         | 0/100 [00:00<?, ?it/s]"
     ]
    },
    {
     "name": "stdout",
     "output_type": "stream",
     "text": [
      "Epoch 37, Loss: 0.07211887091398239, Acc: 0.9773666262626648\n"
     ]
    },
    {
     "name": "stderr",
     "output_type": "stream",
     "text": [
      "Batch 37: 100%|███████████████████████████████████████████████████████████████████████████████| 100/100 [01:26<00:00,  1.15it/s]\n",
      "Batch 38:   0%|                                                                                         | 0/100 [00:00<?, ?it/s]"
     ]
    },
    {
     "name": "stdout",
     "output_type": "stream",
     "text": [
      "Epoch 38, Loss: 0.07471217215061188, Acc: 0.977866530418396\n"
     ]
    },
    {
     "name": "stderr",
     "output_type": "stream",
     "text": [
      "Batch 38: 100%|███████████████████████████████████████████████████████████████████████████████| 100/100 [01:26<00:00,  1.15it/s]\n",
      "Batch 39:   0%|                                                                                         | 0/100 [00:00<?, ?it/s]"
     ]
    },
    {
     "name": "stdout",
     "output_type": "stream",
     "text": [
      "Epoch 39, Loss: 0.06766016781330109, Acc: 0.978966474533081\n"
     ]
    },
    {
     "name": "stderr",
     "output_type": "stream",
     "text": [
      "Batch 39: 100%|███████████████████████████████████████████████████████████████████████████████| 100/100 [01:31<00:00,  1.09it/s]\n",
      "Batch 40:   0%|                                                                                         | 0/100 [00:00<?, ?it/s]"
     ]
    },
    {
     "name": "stdout",
     "output_type": "stream",
     "text": [
      "Epoch 40, Loss: 0.06566406041383743, Acc: 0.9792333245277405\n"
     ]
    },
    {
     "name": "stderr",
     "output_type": "stream",
     "text": [
      "Batch 40: 100%|███████████████████████████████████████████████████████████████████████████████| 100/100 [01:45<00:00,  1.05s/it]\n",
      "Batch 41:   0%|                                                                                         | 0/100 [00:00<?, ?it/s]"
     ]
    },
    {
     "name": "stdout",
     "output_type": "stream",
     "text": [
      "Epoch 41, Loss: 0.06261061877012253, Acc: 0.9790666103363037\n"
     ]
    },
    {
     "name": "stderr",
     "output_type": "stream",
     "text": [
      "Batch 41: 100%|███████████████████████████████████████████████████████████████████████████████| 100/100 [01:27<00:00,  1.14it/s]\n",
      "Batch 42:   0%|                                                                                         | 0/100 [00:00<?, ?it/s]"
     ]
    },
    {
     "name": "stdout",
     "output_type": "stream",
     "text": [
      "Epoch 42, Loss: 0.06085619330406189, Acc: 0.9815664887428284\n"
     ]
    },
    {
     "name": "stderr",
     "output_type": "stream",
     "text": [
      "Batch 42: 100%|███████████████████████████████████████████████████████████████████████████████| 100/100 [01:25<00:00,  1.17it/s]\n",
      "Batch 43:   0%|                                                                                         | 0/100 [00:00<?, ?it/s]"
     ]
    },
    {
     "name": "stdout",
     "output_type": "stream",
     "text": [
      "Epoch 43, Loss: 0.07030083984136581, Acc: 0.9773666858673096\n"
     ]
    },
    {
     "name": "stderr",
     "output_type": "stream",
     "text": [
      "Batch 43: 100%|███████████████████████████████████████████████████████████████████████████████| 100/100 [01:28<00:00,  1.13it/s]\n",
      "Batch 44:   0%|                                                                                         | 0/100 [00:00<?, ?it/s]"
     ]
    },
    {
     "name": "stdout",
     "output_type": "stream",
     "text": [
      "Epoch 44, Loss: 0.06048328056931496, Acc: 0.9807662963867188\n"
     ]
    },
    {
     "name": "stderr",
     "output_type": "stream",
     "text": [
      "Batch 44: 100%|███████████████████████████████████████████████████████████████████████████████| 100/100 [01:38<00:00,  1.02it/s]\n",
      "Batch 45:   0%|                                                                                         | 0/100 [00:00<?, ?it/s]"
     ]
    },
    {
     "name": "stdout",
     "output_type": "stream",
     "text": [
      "Epoch 45, Loss: 0.06218019127845764, Acc: 0.9808666110038757\n"
     ]
    },
    {
     "name": "stderr",
     "output_type": "stream",
     "text": [
      "Batch 45: 100%|███████████████████████████████████████████████████████████████████████████████| 100/100 [01:30<00:00,  1.11it/s]\n",
      "Batch 46:   0%|                                                                                         | 0/100 [00:00<?, ?it/s]"
     ]
    },
    {
     "name": "stdout",
     "output_type": "stream",
     "text": [
      "Epoch 46, Loss: 0.06509291380643845, Acc: 0.9794996380805969\n"
     ]
    },
    {
     "name": "stderr",
     "output_type": "stream",
     "text": [
      "Batch 46: 100%|███████████████████████████████████████████████████████████████████████████████| 100/100 [01:27<00:00,  1.15it/s]\n",
      "Batch 47:   0%|                                                                                         | 0/100 [00:00<?, ?it/s]"
     ]
    },
    {
     "name": "stdout",
     "output_type": "stream",
     "text": [
      "Epoch 47, Loss: 0.061215486377477646, Acc: 0.9808666110038757\n"
     ]
    },
    {
     "name": "stderr",
     "output_type": "stream",
     "text": [
      "Batch 47:   8%|██████▏                                                                       | 8/100 [35:14<2:44:45, 107.45s/it]"
     ]
    }
   ],
   "source": [
    "import time\n",
    "from tqdm import tqdm\n",
    "\n",
    "EPOCHES = 10000\n",
    "EPISODES = 100\n",
    "\n",
    "for epoch in range(EPOCHES):\n",
    "    train_loss.reset_states()\n",
    "    train_acc.reset_states()\n",
    "        \n",
    "    episode_generator = EpisodeBatcher(Path(\"data/omniglot\"), \"train\", 5, 5, EPISODES, 60)\n",
    "    for episode in tqdm(episode_generator, desc=\"Batch {}\".format(epoch)):\n",
    "        train_step(*episode)\n",
    "        \n",
    "    template = 'Epoch {}, Loss: {}, Acc: {}'\n",
    "    print(template.format(epoch + 1, train_loss.result(), train_acc.result()))"
   ]
  },
  {
   "cell_type": "code",
   "execution_count": null,
   "metadata": {},
   "outputs": [],
   "source": []
  }
 ],
 "metadata": {
  "celltoolbar": "Raw Cell Format",
  "kernelspec": {
   "display_name": "Python 3",
   "language": "python",
   "name": "python3"
  },
  "language_info": {
   "codemirror_mode": {
    "name": "ipython",
    "version": 3
   },
   "file_extension": ".py",
   "mimetype": "text/x-python",
   "name": "python",
   "nbconvert_exporter": "python",
   "pygments_lexer": "ipython3",
   "version": "3.6.6"
  }
 },
 "nbformat": 4,
 "nbformat_minor": 4
}
